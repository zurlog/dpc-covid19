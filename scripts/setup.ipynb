{
 "cells": [
  {
   "cell_type": "markdown",
   "id": "e78e4e71",
   "metadata": {},
   "source": [
    "## Setup\n",
    "\n",
    "First, let's import a few common modules, ensure MatplotLib plots figures inline, set locations and prepare a function to save the figures. \n",
    "\n",
    "`%matplotLib inline` allows you to show resulting plots below the code cell that produced it and store plots in the notebook document. "
   ]
  },
  {
   "cell_type": "code",
   "execution_count": 1,
   "id": "680e41ae",
   "metadata": {},
   "outputs": [],
   "source": [
    "# Python ≥3.5 is required\n",
    "import sys\n",
    "assert sys.version_info >= (3, 5)\n",
    "\n",
    "# Scikit-Learn ≥0.20 is required\n",
    "import sklearn\n",
    "assert sklearn.__version__ >= \"0.20\"\n",
    "\n",
    "# Common imports\n",
    "import numpy as np\n",
    "import os\n",
    "import pandas as pd\n",
    "import geopandas as gpd\n",
    "\n",
    "# to make this notebook's output stable across runs\n",
    "#np.random.seed(42)\n",
    "\n",
    "# To plot pretty figures\n",
    "%matplotlib inline \n",
    "import matplotlib as mpl \n",
    "import matplotlib.pyplot as plt\n",
    "import matplotlib.image as mpimg\n",
    "from matplotlib.axes import Axes\n",
    "from matplotlib.dates import DateFormatter, AutoDateLocator\n",
    "\n",
    "from plotly.offline import iplot\n",
    "import plotly.express as px\n",
    "\n",
    "import seaborn as sns\n",
    "mpl.rc('axes', labelsize=14)\n",
    "mpl.rc('xtick', labelsize=12)\n",
    "mpl.rc('ytick', labelsize=12)\n",
    "\n",
    "# Where to save the data, results and images\n",
    "LESSON_ROOT_DIR = \"../\"\n",
    "\n",
    "CONF_PATH = os.path.join(LESSON_ROOT_DIR, \"conf\")\n",
    "os.makedirs(CONF_PATH, exist_ok=True) # check existance of function\n",
    "\n",
    "DATA_PATH = os.path.join(LESSON_ROOT_DIR, \"data\")\n",
    "os.makedirs(DATA_PATH, exist_ok=True)\n",
    "\n",
    "RESULTS_PATH = os.path.join(LESSON_ROOT_DIR, \"results\")\n",
    "os.makedirs(RESULTS_PATH, exist_ok=True)\n",
    "\n",
    "IMAGES_PATH = os.path.join(LESSON_ROOT_DIR, \"images\")\n",
    "os.makedirs(IMAGES_PATH, exist_ok=True)\n",
    "\n",
    "from numpy.random import rand\n",
    "from numpy.random import randn"
   ]
  },
  {
   "cell_type": "code",
   "execution_count": 2,
   "id": "045d277d",
   "metadata": {},
   "outputs": [],
   "source": [
    "def save_fig(fig_id: str, tight_layout: bool = True, fig_extension: str = \"png\", resolution: int = 300) -> None:\n",
    "    \"\"\"\n",
    "    Save a Matplotlib figure to disk.\n",
    "\n",
    "    Args:\n",
    "        fig_id (str): The name of the figure, without the extension.\n",
    "        tight_layout (bool, optional): Whether to apply tight layout to the figure before saving it. Default is `True`.\n",
    "        fig_extension (str, optional): The file extension for the saved figure. Default is `\"png\"`.\n",
    "        resolution (int, optional): The resolution of the saved figure, in dots per inch (dpi). Default is `300`.\n",
    "        \n",
    "    Returns:\n",
    "        None\n",
    "    \"\"\"\n",
    "    path = os.path.join(IMAGES_PATH, fig_id + \".\" + fig_extension)\n",
    "    \n",
    "    if tight_layout:\n",
    "        plt.tight_layout()\n",
    "        \n",
    "    plt.savefig(path, format=fig_extension, dpi=resolution)\n"
   ]
  }
 ],
 "metadata": {
  "kernelspec": {
   "display_name": "base",
   "language": "python",
   "name": "python3"
  },
  "language_info": {
   "codemirror_mode": {
    "name": "ipython",
    "version": 3
   },
   "file_extension": ".py",
   "mimetype": "text/x-python",
   "name": "python",
   "nbconvert_exporter": "python",
   "pygments_lexer": "ipython3",
   "version": "3.9.15"
  },
  "vscode": {
   "interpreter": {
    "hash": "4276b2ca754db6a26b7ea634b0dbcdbe1143fb38970c596b41682d2c61fb3dca"
   }
  }
 },
 "nbformat": 4,
 "nbformat_minor": 5
}
